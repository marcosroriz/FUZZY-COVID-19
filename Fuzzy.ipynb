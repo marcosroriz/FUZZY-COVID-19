{
 "cells": [
  {
   "cell_type": "markdown",
   "id": "33aa6e58-4f78-4dc1-beca-1e83d1687937",
   "metadata": {},
   "source": [
    "# A fuzzy approach to support decision-making in the triage processes  for suspected COVID-19 patients in Brazil"
   ]
  },
  {
   "cell_type": "markdown",
   "id": "ab87c744-bc66-4671-b0a8-a1b6dd18f866",
   "metadata": {},
   "source": [
    "## Authors\n",
    "* Nadya Regina Galo (nadyagalo@ufg.br) \n",
    "* Marcos Paulino Roriz Junior (marcosroriz@ufg.br)\n",
    "* Rodrigo Pinheiro Tóffano Pereira (rodrigo_toffano@ufg.br)\n",
    "----\n",
    "* Faculty of Science and Technology\n",
    "* Federal University of Goiás\n",
    "\n",
    "<img src=\"logo.png\" alt=\"FCT/UFG\" width=\"300\"/>"
   ]
  },
  {
   "cell_type": "markdown",
   "id": "a5294a8a-bd1f-4561-8d02-d29b544680e3",
   "metadata": {},
   "source": [
    "## Dependencies\n",
    "* matplotlib, seaborn, pandas, numpy, **scikit-fuzzy**"
   ]
  },
  {
   "cell_type": "markdown",
   "id": "049bc8b6-202e-4138-9386-0b1b6aa38e4e",
   "metadata": {},
   "source": [
    "## Data Source\n",
    "* https://coronavirus.es.gov.br/painel-covid-19-es"
   ]
  },
  {
   "cell_type": "markdown",
   "id": "7adf6d9a-bbda-4ede-97a0-aebd2ee0d04b",
   "metadata": {},
   "source": [
    "# Preamble"
   ]
  },
  {
   "cell_type": "code",
   "execution_count": 1,
   "id": "549489cd-14f8-46de-89d7-8cf6dfde07bf",
   "metadata": {},
   "outputs": [],
   "source": [
    "# Jupyter Imports\n",
    "import warnings\n",
    "from IPython.display import SVG\n",
    "from IPython.display import display\n",
    "\n",
    "warnings.simplefilter('ignore')\n",
    "%matplotlib inline"
   ]
  },
  {
   "cell_type": "code",
   "execution_count": 2,
   "id": "2747dcc5-1430-48b7-b653-514d3c884660",
   "metadata": {},
   "outputs": [],
   "source": [
    "# Basic Imports\n",
    "import pandas as pd\n",
    "import numpy as np"
   ]
  },
  {
   "cell_type": "code",
   "execution_count": 3,
   "id": "487d5a46-0a09-4dbc-99bb-3cf9824b68d5",
   "metadata": {},
   "outputs": [],
   "source": [
    "# Graphical Imports\n",
    "import matplotlib as mpl\n",
    "import matplotlib.pyplot as plt\n",
    "import seaborn as sns\n",
    "from matplotlib import rc\n",
    "from matplotlib.ticker import PercentFormatter\n",
    "\n",
    "sns.reset_defaults()\n",
    "sns.reset_orig()\n",
    "sns.set_palette(\"Set2\", 8)\n",
    "sns.color_palette(\"Set2\")\n",
    "rc('font', **{\"size\": 12})"
   ]
  },
  {
   "cell_type": "code",
   "execution_count": 4,
   "id": "07280d33-81cc-4bae-9844-48aaca96505e",
   "metadata": {},
   "outputs": [],
   "source": [
    "# Fuzzy\n",
    "import skfuzzy as fuzz\n",
    "from skfuzzy import control as ctrl"
   ]
  },
  {
   "cell_type": "markdown",
   "id": "93f59c54-a993-4db1-b471-6a77513dc2b7",
   "metadata": {},
   "source": [
    "# Reading Input Data"
   ]
  },
  {
   "cell_type": "code",
   "execution_count": 5,
   "id": "74fb4a64-587b-4340-a714-229a763998ed",
   "metadata": {},
   "outputs": [
    {
     "data": {
      "text/html": [
       "<div>\n",
       "<style scoped>\n",
       "    .dataframe tbody tr th:only-of-type {\n",
       "        vertical-align: middle;\n",
       "    }\n",
       "\n",
       "    .dataframe tbody tr th {\n",
       "        vertical-align: top;\n",
       "    }\n",
       "\n",
       "    .dataframe thead th {\n",
       "        text-align: right;\n",
       "    }\n",
       "</style>\n",
       "<table border=\"1\" class=\"dataframe\">\n",
       "  <thead>\n",
       "    <tr style=\"text-align: right;\">\n",
       "      <th></th>\n",
       "      <th>DataNotificacao</th>\n",
       "      <th>DataCadastro</th>\n",
       "      <th>DataDiagnostico</th>\n",
       "      <th>DataColeta_RT_PCR</th>\n",
       "      <th>DataColetaTesteRapido</th>\n",
       "      <th>DataColetaSorologia</th>\n",
       "      <th>DataColetaSorologiaIGG</th>\n",
       "      <th>DataEncerramento</th>\n",
       "      <th>DataObito</th>\n",
       "      <th>Classificacao</th>\n",
       "      <th>...</th>\n",
       "      <th>ViagemBrasil</th>\n",
       "      <th>ViagemInternacional</th>\n",
       "      <th>ProfissionalSaude</th>\n",
       "      <th>PossuiDeficiencia</th>\n",
       "      <th>MoradorDeRua</th>\n",
       "      <th>ResultadoRT_PCR</th>\n",
       "      <th>ResultadoTesteRapido</th>\n",
       "      <th>ResultadoSorologia</th>\n",
       "      <th>ResultadoSorologia_IGG</th>\n",
       "      <th>TipoTesteRapido</th>\n",
       "    </tr>\n",
       "  </thead>\n",
       "  <tbody>\n",
       "    <tr>\n",
       "      <th>0</th>\n",
       "      <td>2021-07-09</td>\n",
       "      <td>2021-06-19</td>\n",
       "      <td>2021-07-06</td>\n",
       "      <td>NaN</td>\n",
       "      <td>2021-07-09</td>\n",
       "      <td>NaN</td>\n",
       "      <td>NaN</td>\n",
       "      <td>2021-07-09</td>\n",
       "      <td>NaN</td>\n",
       "      <td>Descartados</td>\n",
       "      <td>...</td>\n",
       "      <td>Não</td>\n",
       "      <td>Não Informado</td>\n",
       "      <td>Não</td>\n",
       "      <td>Não</td>\n",
       "      <td>Não</td>\n",
       "      <td>Não Informado</td>\n",
       "      <td>Negativo</td>\n",
       "      <td>Não Informado</td>\n",
       "      <td>Não Informado</td>\n",
       "      <td>Teste rápido Antígeno</td>\n",
       "    </tr>\n",
       "    <tr>\n",
       "      <th>1</th>\n",
       "      <td>2021-07-09</td>\n",
       "      <td>2021-04-28</td>\n",
       "      <td>2021-07-09</td>\n",
       "      <td>NaN</td>\n",
       "      <td>2021-07-09</td>\n",
       "      <td>NaN</td>\n",
       "      <td>NaN</td>\n",
       "      <td>NaN</td>\n",
       "      <td>NaN</td>\n",
       "      <td>Confirmados</td>\n",
       "      <td>...</td>\n",
       "      <td>Não Informado</td>\n",
       "      <td>Não Informado</td>\n",
       "      <td>Não</td>\n",
       "      <td>Sim</td>\n",
       "      <td>Não</td>\n",
       "      <td>Não Informado</td>\n",
       "      <td>Positivo</td>\n",
       "      <td>Não Informado</td>\n",
       "      <td>Não Informado</td>\n",
       "      <td>Teste rápido Antígeno</td>\n",
       "    </tr>\n",
       "    <tr>\n",
       "      <th>2</th>\n",
       "      <td>2021-07-09</td>\n",
       "      <td>2021-07-06</td>\n",
       "      <td>2021-07-06</td>\n",
       "      <td>2021-07-09</td>\n",
       "      <td>NaN</td>\n",
       "      <td>NaN</td>\n",
       "      <td>NaN</td>\n",
       "      <td>2021-07-09</td>\n",
       "      <td>NaN</td>\n",
       "      <td>Descartados</td>\n",
       "      <td>...</td>\n",
       "      <td>Não Informado</td>\n",
       "      <td>Não Informado</td>\n",
       "      <td>Não</td>\n",
       "      <td>Não</td>\n",
       "      <td>Não</td>\n",
       "      <td>Negativo</td>\n",
       "      <td>Não Informado</td>\n",
       "      <td>Não Informado</td>\n",
       "      <td>Não Informado</td>\n",
       "      <td>Não Informado</td>\n",
       "    </tr>\n",
       "    <tr>\n",
       "      <th>3</th>\n",
       "      <td>2021-07-09</td>\n",
       "      <td>2021-04-29</td>\n",
       "      <td>2021-07-06</td>\n",
       "      <td>NaN</td>\n",
       "      <td>2021-07-09</td>\n",
       "      <td>NaN</td>\n",
       "      <td>NaN</td>\n",
       "      <td>NaN</td>\n",
       "      <td>NaN</td>\n",
       "      <td>Confirmados</td>\n",
       "      <td>...</td>\n",
       "      <td>Não Informado</td>\n",
       "      <td>Não Informado</td>\n",
       "      <td>Não</td>\n",
       "      <td>Não</td>\n",
       "      <td>Não</td>\n",
       "      <td>Não Informado</td>\n",
       "      <td>Positivo</td>\n",
       "      <td>Não Informado</td>\n",
       "      <td>Não Informado</td>\n",
       "      <td>Teste rápido Antígeno</td>\n",
       "    </tr>\n",
       "    <tr>\n",
       "      <th>4</th>\n",
       "      <td>2021-07-09</td>\n",
       "      <td>2021-07-09</td>\n",
       "      <td>2021-07-06</td>\n",
       "      <td>2021-07-09</td>\n",
       "      <td>NaN</td>\n",
       "      <td>NaN</td>\n",
       "      <td>NaN</td>\n",
       "      <td>NaN</td>\n",
       "      <td>NaN</td>\n",
       "      <td>Suspeito</td>\n",
       "      <td>...</td>\n",
       "      <td>Não Informado</td>\n",
       "      <td>Não Informado</td>\n",
       "      <td>Não</td>\n",
       "      <td>Não</td>\n",
       "      <td>Não</td>\n",
       "      <td>Não Informado</td>\n",
       "      <td>Não Informado</td>\n",
       "      <td>Não Informado</td>\n",
       "      <td>Não Informado</td>\n",
       "      <td>Não Informado</td>\n",
       "    </tr>\n",
       "  </tbody>\n",
       "</table>\n",
       "<p>5 rows × 45 columns</p>\n",
       "</div>"
      ],
      "text/plain": [
       "  DataNotificacao DataCadastro DataDiagnostico DataColeta_RT_PCR  \\\n",
       "0      2021-07-09   2021-06-19      2021-07-06               NaN   \n",
       "1      2021-07-09   2021-04-28      2021-07-09               NaN   \n",
       "2      2021-07-09   2021-07-06      2021-07-06        2021-07-09   \n",
       "3      2021-07-09   2021-04-29      2021-07-06               NaN   \n",
       "4      2021-07-09   2021-07-09      2021-07-06        2021-07-09   \n",
       "\n",
       "  DataColetaTesteRapido DataColetaSorologia DataColetaSorologiaIGG  \\\n",
       "0            2021-07-09                 NaN                    NaN   \n",
       "1            2021-07-09                 NaN                    NaN   \n",
       "2                   NaN                 NaN                    NaN   \n",
       "3            2021-07-09                 NaN                    NaN   \n",
       "4                   NaN                 NaN                    NaN   \n",
       "\n",
       "  DataEncerramento DataObito Classificacao  ...   ViagemBrasil  \\\n",
       "0       2021-07-09       NaN   Descartados  ...            Não   \n",
       "1              NaN       NaN   Confirmados  ...  Não Informado   \n",
       "2       2021-07-09       NaN   Descartados  ...  Não Informado   \n",
       "3              NaN       NaN   Confirmados  ...  Não Informado   \n",
       "4              NaN       NaN      Suspeito  ...  Não Informado   \n",
       "\n",
       "  ViagemInternacional ProfissionalSaude PossuiDeficiencia MoradorDeRua  \\\n",
       "0       Não Informado               Não               Não          Não   \n",
       "1       Não Informado               Não               Sim          Não   \n",
       "2       Não Informado               Não               Não          Não   \n",
       "3       Não Informado               Não               Não          Não   \n",
       "4       Não Informado               Não               Não          Não   \n",
       "\n",
       "  ResultadoRT_PCR ResultadoTesteRapido ResultadoSorologia  \\\n",
       "0   Não Informado             Negativo      Não Informado   \n",
       "1   Não Informado             Positivo      Não Informado   \n",
       "2        Negativo        Não Informado      Não Informado   \n",
       "3   Não Informado             Positivo      Não Informado   \n",
       "4   Não Informado        Não Informado      Não Informado   \n",
       "\n",
       "  ResultadoSorologia_IGG        TipoTesteRapido  \n",
       "0          Não Informado  Teste rápido Antígeno  \n",
       "1          Não Informado  Teste rápido Antígeno  \n",
       "2          Não Informado          Não Informado  \n",
       "3          Não Informado  Teste rápido Antígeno  \n",
       "4          Não Informado          Não Informado  \n",
       "\n",
       "[5 rows x 45 columns]"
      ]
     },
     "execution_count": 5,
     "metadata": {},
     "output_type": "execute_result"
    }
   ],
   "source": [
    "rawdf = pd.read_csv(\"MICRODADOS.csv\", error_bad_lines=False, sep=\";\", encoding=\"iso-8859-1\")\n",
    "rawdf.head()"
   ]
  },
  {
   "cell_type": "code",
   "execution_count": 6,
   "id": "e45f54a5-bdd6-447f-bda9-609c336a24e1",
   "metadata": {},
   "outputs": [
    {
     "data": {
      "text/plain": [
       "(1679329, 45)"
      ]
     },
     "execution_count": 6,
     "metadata": {},
     "output_type": "execute_result"
    }
   ],
   "source": [
    "# Number of records\n",
    "rawdf.shape"
   ]
  },
  {
   "cell_type": "code",
   "execution_count": 7,
   "id": "e3179607-d70a-4555-ae4b-e039c54dd45d",
   "metadata": {},
   "outputs": [],
   "source": [
    "# Removing none responses\n",
    "df = rawdf\n",
    "df = df[df[\"Febre\"] != \"-\"]\n",
    "df = df[df[\"DificuldadeRespiratoria\"] != \"-\"]\n",
    "df = df[df[\"Tosse\"] != \"-\"]\n",
    "df = df[df[\"Coriza\"] != \"-\"]\n",
    "df = df[df[\"DorGarganta\"] != \"-\"]\n",
    "df = df[df[\"Diarreia\"] != \"-\"]\n",
    "df = df[df[\"Cefaleia\"] != \"-\"]\n",
    "df = df[df[\"ComorbidadePulmao\"] != \"-\"]\n",
    "df = df[df[\"ComorbidadeCardio\"] != \"-\"]\n",
    "df = df[df[\"ComorbidadeRenal\"] != \"-\"]\n",
    "df = df[df[\"ComorbidadeDiabetes\"] != \"-\"]\n",
    "df = df[df[\"ComorbidadeObesidade\"] != \"-\"]\n",
    "df = df[df[\"FicouInternado\"] != \"-\"]"
   ]
  },
  {
   "cell_type": "markdown",
   "id": "62d832cf-c91e-4737-9c80-d0fed7a9cb42",
   "metadata": {},
   "source": [
    "# Preprocessing input variables"
   ]
  },
  {
   "cell_type": "markdown",
   "id": "30004949-06e0-4614-ad12-144a24df58b5",
   "metadata": {},
   "source": [
    "## Vital Signs"
   ]
  },
  {
   "cell_type": "code",
   "execution_count": 8,
   "id": "47048731-4e62-4c38-a43a-9fc48bd80488",
   "metadata": {},
   "outputs": [
    {
     "data": {
      "text/plain": [
       "Não    1134433\n",
       "Sim     540919\n",
       "Name: Febre, dtype: int64"
      ]
     },
     "execution_count": 8,
     "metadata": {},
     "output_type": "execute_result"
    }
   ],
   "source": [
    "# Febre = Fever\n",
    "df[\"Febre\"].value_counts()"
   ]
  },
  {
   "cell_type": "code",
   "execution_count": 9,
   "id": "826791e7-159c-4a13-831a-a09f6f196c03",
   "metadata": {},
   "outputs": [
    {
     "data": {
      "text/plain": [
       "0    1134433\n",
       "2     540919\n",
       "Name: VS, dtype: int64"
      ]
     },
     "execution_count": 9,
     "metadata": {},
     "output_type": "execute_result"
    }
   ],
   "source": [
    "# VS - Vital Signs\n",
    "# Sim = Yes\n",
    "def sv(row):\n",
    "    if row[\"Febre\"] == \"Sim\":\n",
    "        return 2\n",
    "    else:\n",
    "        return 0\n",
    "\n",
    "df[\"VS\"] = df.apply(sv, axis=1)\n",
    "df[\"VS\"].value_counts()"
   ]
  },
  {
   "cell_type": "markdown",
   "id": "41a0135a-50b7-46a9-b764-9bb489f41ed5",
   "metadata": {},
   "source": [
    "## Breathing Difficulty"
   ]
  },
  {
   "cell_type": "code",
   "execution_count": 10,
   "id": "1163112a-5e28-4912-9d5d-e88b372faaa9",
   "metadata": {},
   "outputs": [
    {
     "data": {
      "text/plain": [
       "Não    1456989\n",
       "Sim     218363\n",
       "Name: DificuldadeRespiratoria, dtype: int64"
      ]
     },
     "execution_count": 10,
     "metadata": {},
     "output_type": "execute_result"
    }
   ],
   "source": [
    "# Dificuldade Respiratória = Breathing Difficulty\n",
    "df[\"DificuldadeRespiratoria\"].value_counts()"
   ]
  },
  {
   "cell_type": "code",
   "execution_count": 11,
   "id": "3cbf68d0-06e8-4471-944e-cb98cde69a1e",
   "metadata": {},
   "outputs": [
    {
     "data": {
      "text/plain": [
       "0.0    1456989\n",
       "0.5     218363\n",
       "Name: BD, dtype: int64"
      ]
     },
     "execution_count": 11,
     "metadata": {},
     "output_type": "execute_result"
    }
   ],
   "source": [
    "# BD - Breathing Difficulty\n",
    "def bd(row):\n",
    "    if row[\"DificuldadeRespiratoria\"] == \"Sim\":\n",
    "        return 0.5\n",
    "    else:\n",
    "        return 0\n",
    "\n",
    "df[\"BD\"] = df.apply(bd, axis=1)\n",
    "df[\"BD\"].value_counts()"
   ]
  },
  {
   "cell_type": "markdown",
   "id": "6b745db6-d9e7-435c-90a9-5724bc439365",
   "metadata": {},
   "source": [
    "## Risk Factors"
   ]
  },
  {
   "cell_type": "code",
   "execution_count": 12,
   "id": "bcc65d4e-0c8d-4c9b-afd4-4897ed31ef6f",
   "metadata": {},
   "outputs": [
    {
     "data": {
      "text/plain": [
       "30 a 39 anos       399119\n",
       "20 a 29 anos       332774\n",
       "40 a 49 anos       313720\n",
       "50 a 59 anos       208304\n",
       "10 a 19 anos       126743\n",
       "60 a 69 anos       117267\n",
       "0 a 4 anos          61014\n",
       "70 a 79 anos        49905\n",
       "05 a 9 anos         39240\n",
       "80 a 89 anos        21854\n",
       "90 anos ou mais      5353\n",
       "-                      59\n",
       "Name: FaixaEtaria, dtype: int64"
      ]
     },
     "execution_count": 12,
     "metadata": {},
     "output_type": "execute_result"
    }
   ],
   "source": [
    "# Age Group\n",
    "df[\"FaixaEtaria\"].value_counts()"
   ]
  },
  {
   "cell_type": "code",
   "execution_count": 13,
   "id": "d54e0322-0a96-4f21-b847-1ed0fa99aa07",
   "metadata": {},
   "outputs": [
    {
     "data": {
      "text/plain": [
       "Não                           904668\n",
       "Não se aplica                 755122\n",
       "3º trimeste                     5941\n",
       "Ignorado                        4321\n",
       "2º trimeste                     2652\n",
       "1º trimeste                     2123\n",
       "Idade gestacional ignorada       525\n",
       "Name: Gestante, dtype: int64"
      ]
     },
     "execution_count": 13,
     "metadata": {},
     "output_type": "execute_result"
    }
   ],
   "source": [
    "# Pregnant?\n",
    "df[\"Gestante\"].value_counts()"
   ]
  },
  {
   "cell_type": "code",
   "execution_count": 14,
   "id": "ab2f1ff1-c5bf-4358-8ea6-43735a8d9784",
   "metadata": {},
   "outputs": [
    {
     "data": {
      "text/plain": [
       "0    1280225\n",
       "1     395127\n",
       "Name: RF, dtype: int64"
      ]
     },
     "execution_count": 14,
     "metadata": {},
     "output_type": "execute_result"
    }
   ],
   "source": [
    "def rf(row):\n",
    "    if (row[\"FaixaEtaria\"] == \"60 a 69 anos\" or \n",
    "        row[\"FaixaEtaria\"] == \"70 a 79 anos\" or\n",
    "        row[\"FaixaEtaria\"] == \"80 a 89 anos\" or\n",
    "        row[\"FaixaEtaria\"] == \"90 anos ou mais\" or\n",
    "        row[\"ComorbidadePulmao\"] == \"Sim\" or\n",
    "        row[\"ComorbidadeCardio\"] == \"Sim\" or\n",
    "        row[\"ComorbidadeRenal\"] == \"Sim\" or \n",
    "        row[\"ComorbidadeDiabetes\"] == \"Sim\" or\n",
    "        row[\"ComorbidadeTabagismo\"] == \"Sim\" or \n",
    "        row[\"ComorbidadeObesidade\"] == \"Sim\" or\n",
    "        row[\"Gestante\"] == \"1º trimeste\" or\n",
    "        row[\"Gestante\"] == \"2º trimeste\" or\n",
    "        row[\"Gestante\"] == \"3º trimeste\"):\n",
    "        return 1\n",
    "    else:\n",
    "        return 0\n",
    "\n",
    "df[\"RF\"] = df.apply(rf, axis=1)\n",
    "df[\"RF\"].value_counts()"
   ]
  },
  {
   "cell_type": "markdown",
   "id": "5a6145b8-0769-4837-8589-e7f407f00007",
   "metadata": {},
   "source": [
    "## Other Relevant Syntoms"
   ]
  },
  {
   "cell_type": "code",
   "execution_count": 15,
   "id": "bcc20ee5-7afb-4952-8009-89058f2a9125",
   "metadata": {},
   "outputs": [
    {
     "data": {
      "text/plain": [
       "1    1209767\n",
       "0     465585\n",
       "Name: RS, dtype: int64"
      ]
     },
     "execution_count": 15,
     "metadata": {},
     "output_type": "execute_result"
    }
   ],
   "source": [
    "# RS - Relevant Syntoms\n",
    "# Tosse = Cough\n",
    "# Coriza = Runny nose\n",
    "# Dor Garganta = Sore throat\n",
    "# Diarreia = Diarrhea\n",
    "# Cefaleia = Headache\n",
    "def rs(row):\n",
    "    if (row[\"Tosse\"] == \"Sim\" or\n",
    "        row[\"Coriza\"] == \"Sim\" or\n",
    "        row[\"DorGarganta\"] == \"Sim\" or\n",
    "        row[\"Diarreia\"] == \"Sim\" or\n",
    "        row[\"Cefaleia\"] == \"Sim\"):\n",
    "        return 1\n",
    "    else:\n",
    "        return 0\n",
    "\n",
    "df[\"RS\"] = df.apply(rs, axis=1)\n",
    "df[\"RS\"].value_counts()"
   ]
  },
  {
   "cell_type": "markdown",
   "id": "0afa369e-8452-4109-bdc8-a0920d2365ac",
   "metadata": {},
   "source": [
    "# Fuzzy Model"
   ]
  },
  {
   "cell_type": "markdown",
   "id": "f50db629-9c45-4d37-b0d3-cdee571f7ef0",
   "metadata": {},
   "source": [
    "## Variables and Membership"
   ]
  },
  {
   "cell_type": "code",
   "execution_count": 16,
   "id": "6bf534eb-5135-4e90-92dd-8c5fe8042ff5",
   "metadata": {},
   "outputs": [
    {
     "data": {
      "image/png": "[encoded data removed]",
      "text/plain": [
       "<Figure size 432x288 with 1 Axes>"
      ]
     },
     "metadata": {
      "needs_background": "light"
     },
     "output_type": "display_data"
    }
   ],
   "source": [
    "fuzzy_vs = ctrl.Antecedent(np.arange(0, 19, 1), 'VS')\n",
    "\n",
    "fuzzy_vs[\"low\"] = fuzz.trapmf(fuzzy_vs.universe, [0, 0, 4, 5])\n",
    "fuzzy_vs['medium'] = fuzz.trapmf(fuzzy_vs.universe, [4, 5, 6, 7])\n",
    "fuzzy_vs['high'] = fuzz.trapmf(fuzzy_vs.universe, [6, 7, 18, 18])\n",
    "fuzzy_vs.view()"
   ]
  },
  {
   "cell_type": "code",
   "execution_count": 17,
   "id": "064b16ef-f3d6-47fd-aeba-1f4b68359f19",
   "metadata": {},
   "outputs": [
    {
     "data": {
      "image/png": "[encoded data removed]",
      "text/plain": [
       "<Figure size 432x288 with 1 Axes>"
      ]
     },
     "metadata": {
      "needs_background": "light"
     },
     "output_type": "display_data"
    }
   ],
   "source": [
    "fuzzy_bd = ctrl.Antecedent(np.arange(0, 1.01, 0.05), 'BD')\n",
    "\n",
    "fuzzy_bd[\"minimal\"] = fuzz.trapmf(fuzzy_bd.universe, [0, 0, 0.2, 0.25])\n",
    "fuzzy_bd['high'] = fuzz.trimf(fuzzy_bd.universe, [0.25, 0.5, 0.75])\n",
    "fuzzy_bd['veryhigh'] = fuzz.trapmf(fuzzy_bd.universe, [0.75, 0.8, 1, 1])\n",
    "fuzzy_bd.view()"
   ]
  },
  {
   "cell_type": "code",
   "execution_count": 18,
   "id": "7d3c9969-8946-42e4-9d0d-283b7c20104b",
   "metadata": {},
   "outputs": [
    {
     "data": {
      "image/png": "[encoded data removed]",
      "text/plain": [
       "<Figure size 432x288 with 1 Axes>"
      ]
     },
     "metadata": {
      "needs_background": "light"
     },
     "output_type": "display_data"
    }
   ],
   "source": [
    "fuzzy_rf = ctrl.Antecedent(np.arange(0, 1.01, 0.05), 'RF')\n",
    "\n",
    "fuzzy_rf[\"minimal\"] = fuzz.trapmf(fuzzy_rf.universe, [0, 0, 0.4, 0.6])\n",
    "fuzzy_rf['meaningful'] = fuzz.trapmf(fuzzy_rf.universe, [0.4, 0.6, 1, 1])\n",
    "fuzzy_rf.view()"
   ]
  },
  {
   "cell_type": "code",
   "execution_count": 19,
   "id": "cc743966-b4c9-4b4b-9135-7e95112aac8b",
   "metadata": {},
   "outputs": [
    {
     "data": {
      "image/png": "[encoded data removed]",
      "text/plain": [
       "<Figure size 432x288 with 1 Axes>"
      ]
     },
     "metadata": {
      "needs_background": "light"
     },
     "output_type": "display_data"
    }
   ],
   "source": [
    "fuzzy_rs = ctrl.Antecedent(np.arange(0, 1.01, 0.05), 'RS')\n",
    "\n",
    "fuzzy_rs[\"minimal\"] = fuzz.trapmf(fuzzy_rs.universe, [0, 0, 0.4, 0.6])\n",
    "fuzzy_rs['meaningful'] = fuzz.trapmf(fuzzy_rs.universe, [0.4, 0.6, 1, 1])\n",
    "fuzzy_rs.view()"
   ]
  },
  {
   "cell_type": "code",
   "execution_count": 20,
   "id": "e9bd1d30-8a6c-49c6-8f8e-60c71661d5cd",
   "metadata": {},
   "outputs": [
    {
     "data": {
      "image/png": "[encoded data removed]",
      "text/plain": [
       "<Figure size 432x288 with 1 Axes>"
      ]
     },
     "metadata": {
      "needs_background": "light"
     },
     "output_type": "display_data"
    }
   ],
   "source": [
    "fuzzy_sv = ctrl.Consequent(np.arange(0, 1.01, 0.05), 'SV', defuzzify_method=\"centroid\")\n",
    "\n",
    "fuzzy_sv[\"mild\"] = fuzz.trimf(fuzzy_sv.universe, [0, 0, 0.3])\n",
    "fuzzy_sv['moderate'] = fuzz.trimf(fuzzy_sv.universe, [0.2, 0.5, 0.8])\n",
    "fuzzy_sv['severe'] = fuzz.trimf(fuzzy_sv.universe, [0.7, 1, 1])\n",
    "fuzzy_sv.view()"
   ]
  },
  {
   "cell_type": "markdown",
   "id": "545fe6f8-28e5-4cca-9b82-ed28f691bc56",
   "metadata": {},
   "source": [
    "## Control"
   ]
  },
  {
   "cell_type": "code",
   "execution_count": 21,
   "id": "82b87455-f1be-4847-ae3a-2c7f8ba565c2",
   "metadata": {},
   "outputs": [],
   "source": [
    "r1  = ctrl.Rule(fuzzy_vs['low']    & fuzzy_bd[\"minimal\"]  & fuzzy_rf[\"minimal\"]    & fuzzy_rs[\"minimal\"],    fuzzy_sv[\"mild\"])\n",
    "r2  = ctrl.Rule(fuzzy_vs['low']    & fuzzy_bd[\"minimal\"]  & fuzzy_rf[\"minimal\"]    & fuzzy_rs[\"meaningful\"], fuzzy_sv[\"mild\"])\n",
    "r3  = ctrl.Rule(fuzzy_vs['low']    & fuzzy_bd[\"minimal\"]  & fuzzy_rf[\"meaningful\"] & fuzzy_rs[\"minimal\"],    fuzzy_sv[\"mild\"])\n",
    "r4  = ctrl.Rule(fuzzy_vs['low']    & fuzzy_bd[\"minimal\"]  & fuzzy_rf[\"meaningful\"] & fuzzy_rs[\"meaningful\"], fuzzy_sv[\"severe\"])\n",
    "r5  = ctrl.Rule(fuzzy_vs['low']    & fuzzy_bd[\"high\"]     & fuzzy_rf[\"minimal\"]    & fuzzy_rs[\"minimal\"],    fuzzy_sv[\"moderate\"])\n",
    "r6  = ctrl.Rule(fuzzy_vs['low']    & fuzzy_bd[\"high\"]     & fuzzy_rf[\"minimal\"]    & fuzzy_rs[\"meaningful\"], fuzzy_sv[\"severe\"])\n",
    "r7  = ctrl.Rule(fuzzy_vs['low']    & fuzzy_bd[\"high\"]     & fuzzy_rf[\"meaningful\"] & fuzzy_rs[\"minimal\"],    fuzzy_sv[\"severe\"])\n",
    "r8  = ctrl.Rule(fuzzy_vs['low']    & fuzzy_bd[\"high\"]     & fuzzy_rf[\"meaningful\"] & fuzzy_rs[\"meaningful\"], fuzzy_sv[\"severe\"])\n",
    "r9  = ctrl.Rule(fuzzy_vs['low']    & fuzzy_bd[\"veryhigh\"] & fuzzy_rf[\"minimal\"]    & fuzzy_rs[\"minimal\"],    fuzzy_sv[\"severe\"])\n",
    "r10 = ctrl.Rule(fuzzy_vs['low']    & fuzzy_bd[\"veryhigh\"] & fuzzy_rf[\"minimal\"]    & fuzzy_rs[\"meaningful\"], fuzzy_sv[\"severe\"])\n",
    "r11 = ctrl.Rule(fuzzy_vs['low']    & fuzzy_bd[\"veryhigh\"] & fuzzy_rf[\"meaningful\"] & fuzzy_rs[\"minimal\"],    fuzzy_sv[\"severe\"])\n",
    "r12 = ctrl.Rule(fuzzy_vs['low']    & fuzzy_bd[\"veryhigh\"] & fuzzy_rf[\"meaningful\"] & fuzzy_rs[\"meaningful\"], fuzzy_sv[\"severe\"])\n",
    "\n",
    "r13 = ctrl.Rule(fuzzy_vs['medium'] & fuzzy_bd[\"minimal\"]  & fuzzy_rf[\"minimal\"]    & fuzzy_rs[\"minimal\"],    fuzzy_sv[\"mild\"])\n",
    "r14 = ctrl.Rule(fuzzy_vs['medium'] & fuzzy_bd[\"minimal\"]  & fuzzy_rf[\"minimal\"]    & fuzzy_rs[\"meaningful\"], fuzzy_sv[\"moderate\"])\n",
    "r15 = ctrl.Rule(fuzzy_vs['medium'] & fuzzy_bd[\"minimal\"]  & fuzzy_rf[\"meaningful\"] & fuzzy_rs[\"minimal\"],    fuzzy_sv[\"moderate\"])\n",
    "r16 = ctrl.Rule(fuzzy_vs['medium'] & fuzzy_bd[\"minimal\"]  & fuzzy_rf[\"meaningful\"] & fuzzy_rs[\"meaningful\"], fuzzy_sv[\"moderate\"])\n",
    "r17 = ctrl.Rule(fuzzy_vs['medium'] & fuzzy_bd[\"high\"]     & fuzzy_rf[\"minimal\"]    & fuzzy_rs[\"minimal\"],    fuzzy_sv[\"moderate\"])\n",
    "r18 = ctrl.Rule(fuzzy_vs['medium'] & fuzzy_bd[\"high\"]     & fuzzy_rf[\"minimal\"]    & fuzzy_rs[\"meaningful\"], fuzzy_sv[\"severe\"])\n",
    "r19 = ctrl.Rule(fuzzy_vs['medium'] & fuzzy_bd[\"high\"]     & fuzzy_rf[\"meaningful\"] & fuzzy_rs[\"minimal\"],    fuzzy_sv[\"severe\"])\n",
    "r20 = ctrl.Rule(fuzzy_vs['medium'] & fuzzy_bd[\"high\"]     & fuzzy_rf[\"meaningful\"] & fuzzy_rs[\"meaningful\"], fuzzy_sv[\"severe\"])\n",
    "r21 = ctrl.Rule(fuzzy_vs['medium'] & fuzzy_bd[\"veryhigh\"] & fuzzy_rf[\"minimal\"]    & fuzzy_rs[\"minimal\"],    fuzzy_sv[\"severe\"])\n",
    "r22 = ctrl.Rule(fuzzy_vs['medium'] & fuzzy_bd[\"veryhigh\"] & fuzzy_rf[\"minimal\"]    & fuzzy_rs[\"meaningful\"], fuzzy_sv[\"severe\"])\n",
    "r23 = ctrl.Rule(fuzzy_vs['medium'] & fuzzy_bd[\"veryhigh\"] & fuzzy_rf[\"meaningful\"] & fuzzy_rs[\"minimal\"],    fuzzy_sv[\"severe\"])\n",
    "r24 = ctrl.Rule(fuzzy_vs['medium'] & fuzzy_bd[\"veryhigh\"] & fuzzy_rf[\"meaningful\"] & fuzzy_rs[\"meaningful\"], fuzzy_sv[\"severe\"])\n",
    "\n",
    "\n",
    "r25 = ctrl.Rule(fuzzy_vs['high']   & fuzzy_bd[\"minimal\"]  & fuzzy_rf[\"minimal\"]    & fuzzy_rs[\"minimal\"],    fuzzy_sv[\"moderate\"])\n",
    "r26 = ctrl.Rule(fuzzy_vs['high']   & fuzzy_bd[\"minimal\"]  & fuzzy_rf[\"minimal\"]    & fuzzy_rs[\"meaningful\"], fuzzy_sv[\"severe\"])\n",
    "r27 = ctrl.Rule(fuzzy_vs['high']   & fuzzy_bd[\"minimal\"]  & fuzzy_rf[\"meaningful\"] & fuzzy_rs[\"minimal\"],    fuzzy_sv[\"severe\"])\n",
    "r28 = ctrl.Rule(fuzzy_vs['high']   & fuzzy_bd[\"minimal\"]  & fuzzy_rf[\"meaningful\"] & fuzzy_rs[\"meaningful\"], fuzzy_sv[\"severe\"])\n",
    "r29 = ctrl.Rule(fuzzy_vs['high']   & fuzzy_bd[\"high\"]     & fuzzy_rf[\"minimal\"]    & fuzzy_rs[\"minimal\"],    fuzzy_sv[\"severe\"])\n",
    "r30 = ctrl.Rule(fuzzy_vs['high']   & fuzzy_bd[\"high\"]     & fuzzy_rf[\"minimal\"]    & fuzzy_rs[\"meaningful\"], fuzzy_sv[\"severe\"])\n",
    "r31 = ctrl.Rule(fuzzy_vs['high']   & fuzzy_bd[\"high\"]     & fuzzy_rf[\"meaningful\"] & fuzzy_rs[\"minimal\"],    fuzzy_sv[\"severe\"])\n",
    "r32 = ctrl.Rule(fuzzy_vs['high']   & fuzzy_bd[\"high\"]     & fuzzy_rf[\"meaningful\"] & fuzzy_rs[\"meaningful\"], fuzzy_sv[\"severe\"])\n",
    "r33 = ctrl.Rule(fuzzy_vs['high']   & fuzzy_bd[\"veryhigh\"] & fuzzy_rf[\"minimal\"]    & fuzzy_rs[\"minimal\"],    fuzzy_sv[\"severe\"])\n",
    "r34 = ctrl.Rule(fuzzy_vs['high']   & fuzzy_bd[\"veryhigh\"] & fuzzy_rf[\"minimal\"]    & fuzzy_rs[\"meaningful\"], fuzzy_sv[\"severe\"])\n",
    "r35 = ctrl.Rule(fuzzy_vs['high']   & fuzzy_bd[\"veryhigh\"] & fuzzy_rf[\"meaningful\"] & fuzzy_rs[\"minimal\"],    fuzzy_sv[\"severe\"])\n",
    "r36 = ctrl.Rule(fuzzy_vs['high']   & fuzzy_bd[\"veryhigh\"] & fuzzy_rf[\"meaningful\"] & fuzzy_rs[\"meaningful\"], fuzzy_sv[\"severe\"])"
   ]
  },
  {
   "cell_type": "code",
   "execution_count": 22,
   "id": "04068547-8323-4a96-acfd-d8647c959cae",
   "metadata": {},
   "outputs": [],
   "source": [
    "fuzzy_ctrl = ctrl.ControlSystem([r1, r2, r3, r4, r5, r6, r7, r8, r9, r10, r11, r12,\n",
    "                                 r13, r14, r15, r16, r17, r18, r19, r20, r21, r22, r23, r24,\n",
    "                                 r25, r26, r27, r28, r29, r30, r31, r32, r33, r34, r35, r36 ])"
   ]
  },
  {
   "cell_type": "code",
   "execution_count": 23,
   "id": "308855ac-f4a2-4da9-9d6b-beaa4ecd574c",
   "metadata": {},
   "outputs": [],
   "source": [
    "fuzzy_system = ctrl.ControlSystemSimulation(fuzzy_ctrl)"
   ]
  },
  {
   "cell_type": "markdown",
   "id": "3959e158-a5c6-42a4-9bd9-5240cce9eada",
   "metadata": {},
   "source": [
    "## Sample Execution"
   ]
  },
  {
   "cell_type": "code",
   "execution_count": 24,
   "id": "8d990caf-c47e-487a-9545-8e3e5f039e33",
   "metadata": {},
   "outputs": [
    {
     "data": {
      "text/plain": [
       "OrderedDict([('SV', 0.9000000000000001)])"
      ]
     },
     "execution_count": 24,
     "metadata": {},
     "output_type": "execute_result"
    }
   ],
   "source": [
    "fuzzy_system.input['VS'] = 2\n",
    "fuzzy_system.input['BD'] = 0.5\n",
    "fuzzy_system.input['RF'] = 1\n",
    "fuzzy_system.input['RS'] = 1\n",
    "fuzzy_system.compute()\n",
    "fuzzy_system.output"
   ]
  },
  {
   "cell_type": "code",
   "execution_count": 25,
   "id": "8fe9cfe4-605b-4592-8946-4fdeb24e21e4",
   "metadata": {},
   "outputs": [
    {
     "data": {
      "image/png": "[encoded data removed]",
      "text/plain": [
       "<Figure size 432x288 with 1 Axes>"
      ]
     },
     "metadata": {
      "needs_background": "light"
     },
     "output_type": "display_data"
    }
   ],
   "source": [
    "fuzzy_sv.view(sim=fuzzy_system)"
   ]
  },
  {
   "cell_type": "markdown",
   "id": "54972454-9635-4172-81aa-14cde35dafca",
   "metadata": {
    "tags": []
   },
   "source": [
    "# Apply to the dataset"
   ]
  },
  {
   "cell_type": "code",
   "execution_count": 26,
   "id": "cccfea0f-0a76-439f-a148-b2f1e13d449f",
   "metadata": {},
   "outputs": [],
   "source": [
    "def fuzzify(row):\n",
    "    fuzzy_system.input['VS'] = row[\"VS\"]\n",
    "    fuzzy_system.input['BD'] = row[\"BD\"]\n",
    "    fuzzy_system.input['RF'] = row[\"RF\"]\n",
    "    fuzzy_system.input['RS'] = row[\"RS\"]\n",
    "    fuzzy_system.compute()\n",
    "    return fuzzy_system.output[\"SV\"]\n"
   ]
  },
  {
   "cell_type": "code",
   "execution_count": 27,
   "id": "48ceb3ed-5c03-42cf-99aa-3f37180c5d92",
   "metadata": {
    "tags": []
   },
   "outputs": [
    {
     "data": {
      "text/plain": [
       "0.1    1216806\n",
       "0.9     449412\n",
       "0.5       9134\n",
       "Name: FUZZY, dtype: int64"
      ]
     },
     "execution_count": 27,
     "metadata": {},
     "output_type": "execute_result"
    }
   ],
   "source": [
    "df[\"FUZZY\"] = df.apply(fuzzify, axis=1)\n",
    "df[\"FUZZY\"].value_counts()"
   ]
  },
  {
   "cell_type": "code",
   "execution_count": 28,
   "id": "be860d27-3c8c-4a51-bb99-ebf1261c3f16",
   "metadata": {},
   "outputs": [
    {
     "data": {
      "text/plain": [
       "Não    0.731751\n",
       "Sim    0.268249\n",
       "Name: FUZZYSTR, dtype: float64"
      ]
     },
     "execution_count": 28,
     "metadata": {},
     "output_type": "execute_result"
    }
   ],
   "source": [
    "df[\"FUZZYSTR\"] = np.where(df[\"FUZZY\"] >= 0.75, \"Sim\", \"Não\")\n",
    "df[\"FUZZYSTR\"].value_counts(normalize=True)"
   ]
  },
  {
   "cell_type": "markdown",
   "id": "781948ed-0fdb-48b3-9a71-f5ba6e26d605",
   "metadata": {},
   "source": [
    "# Plot"
   ]
  },
  {
   "cell_type": "code",
   "execution_count": 29,
   "id": "44e8254e-103a-411f-9603-594a506bc657",
   "metadata": {},
   "outputs": [],
   "source": [
    "def plotComparison(df_fuzzy, df_manual, ax):\n",
    "    labels = [\"Yes\", \"No\"]\n",
    "    \n",
    "    df_fuzzy_yes  = 0\n",
    "    df_fuzzy_no   = 0\n",
    "    df_manual_yes = 0\n",
    "    df_manual_no  = 0\n",
    "    \n",
    "    if \"Sim\" in df_fuzzy.index:\n",
    "        df_fuzzy_yes = df_fuzzy.loc[\"Sim\"][\"percentage\"]\n",
    "    \n",
    "    if \"Não\" in df_fuzzy.index:\n",
    "        df_fuzzy_no = df_fuzzy.loc[\"Não\"][\"percentage\"]\n",
    "\n",
    "    if \"Sim\" in df_manual.index:\n",
    "        df_manual_yes = df_manual.loc[\"Sim\"][\"percentage\"]\n",
    "    \n",
    "    if \"Não\" in df_manual.index:\n",
    "        df_manual_no = df_manual.loc[\"Não\"][\"percentage\"]\n",
    "    \n",
    "    data_yes = [df_fuzzy_yes, df_fuzzy_no]\n",
    "    data_no = [df_manual_yes, df_manual_no]\n",
    "\n",
    "    x = np.arange(len(labels))  \n",
    "    width = 0.3  # the width of the bars\n",
    "\n",
    "    rects1 = ax.bar(x - width/2, data_yes, width, label='Yes')\n",
    "    rects2 = ax.bar(x + width/2, data_no, width, label='No')\n",
    "\n",
    "    return ax"
   ]
  },
  {
   "cell_type": "code",
   "execution_count": 30,
   "id": "1f26e293-24c1-425b-890a-2e19961dc094",
   "metadata": {},
   "outputs": [],
   "source": [
    "def processData(indf, column):\n",
    "    outdf = indf[indf[\"Evolucao\"] == column]\n",
    "    outdf = outdf[(df[\"FicouInternado\"] == \"Sim\") | (df[\"FicouInternado\"] == \"Não\")]\n",
    "\n",
    "    a = outdf[\"FUZZYSTR\"].value_counts(normalize=True)\n",
    "    b = outdf[\"FUZZYSTR\"].value_counts()\n",
    "    df_fuzzy = pd.concat([a, b], axis=1)\n",
    "    df_fuzzy.columns = [\"percentage\", \"raw\"]\n",
    "\n",
    "    a = outdf[\"FicouInternado\"].value_counts(normalize=True)\n",
    "    b = outdf[\"FicouInternado\"].value_counts()\n",
    "    df_manual = pd.concat([a, b], axis=1)\n",
    "    df_manual.columns = [\"percentage\", \"raw\"]\n",
    "    \n",
    "    return df_fuzzy, df_manual"
   ]
  },
  {
   "cell_type": "code",
   "execution_count": 31,
   "id": "3b3e3280-1df7-4ed4-bb1b-92cac3826c59",
   "metadata": {},
   "outputs": [],
   "source": [
    "def putLabels(ax, xticks, label, addYLabel=True):\n",
    "    for rect in ax.patches:\n",
    "        # Find where everything is located\n",
    "        height = rect.get_height()\n",
    "        width = rect.get_width()\n",
    "        x = rect.get_x()\n",
    "        y = rect.get_y()\n",
    "\n",
    "        # print(x, y, width, height)\n",
    "        label_x = x + width - 0.04 # adjust 0.2 to center the label\n",
    "        label_y = y + height + 0.04\n",
    "\n",
    "        if (label_y > 1):\n",
    "            label_y = label_y - 0.1\n",
    "        \n",
    "        # The width of the bar is the data value and can used as the label\n",
    "        label_text = str(round(height * 100)) + \"%\"\n",
    "        ax.text(label_x, label_y, label_text, ha='right', va='center', fontsize=12)\n",
    "    \n",
    "    if addYLabel:\n",
    "        ax.set_ylabel('Percentage')\n",
    "    \n",
    "    ax.set_xlabel(label)\n",
    "    ax.set_xticks(np.arange(len(xticks)))\n",
    "    ax.set_xticklabels(xticks)\n",
    "    ax.yaxis.set_major_formatter(PercentFormatter(1, decimals=0))\n",
    "    ax.set_ylim(0, 1)\n"
   ]
  },
  {
   "cell_type": "code",
   "execution_count": 32,
   "id": "7ca6153c-0401-462e-840c-fce15a88e8ef",
   "metadata": {},
   "outputs": [
    {
     "data": {
      "image/png": "[encoded data removed]",
      "text/plain": [
       "<Figure size 720x288 with 2 Axes>"
      ]
     },
     "metadata": {
      "needs_background": "light"
     },
     "output_type": "display_data"
    }
   ],
   "source": [
    "# Graph related to all cases in the state\n",
    "fig, ax = plt.subplots(1, 2, figsize=(10, 4))\n",
    "ax0, ax1 = ax.flatten()\n",
    "ylabels=[\"Our approach\", \"Current procedure\"]\n",
    "xlabels=[\"Yes\", \"No\"]\n",
    "df_fuzzy, df_manual = processData(df, \"Óbito pelo COVID-19\")\n",
    "plotComparison(df_fuzzy, df_manual, ax0)\n",
    "putLabels(ax0, xlabels, \"Hospitalization (patients that died by COVID-19)\")\n",
    "\n",
    "df_fuzzy, df_manual = processData(df, \"Óbito por outras causas\")\n",
    "plotComparison(df_fuzzy, df_manual, ax1)\n",
    "putLabels(ax1, xlabels, \"Hospitalization (patients that died by other causes)\", False)\n",
    "\n",
    "lgd = fig.legend(ax0, labels=ylabels, ncol=4, loc='lower center', bbox_transform = plt.gcf().transFigure)\n",
    "fig.tight_layout(w_pad=2.5, h_pad=1, pad=3.5)\n",
    "\n",
    "for lh in lgd.legendHandles: \n",
    "    lh.set_alpha(1)\n",
    "\n",
    "fig.savefig('fig6.png', bbox_inches='tight', dpi=300)"
   ]
  },
  {
   "cell_type": "code",
   "execution_count": 33,
   "id": "794ea4c7-8d62-448d-945b-282a992723fc",
   "metadata": {},
   "outputs": [
    {
     "data": {
      "image/png": "[encoded data removed]",
      "text/plain": [
       "<Figure size 720x288 with 2 Axes>"
      ]
     },
     "metadata": {
      "needs_background": "light"
     },
     "output_type": "display_data"
    }
   ],
   "source": [
    "# Graph related to cases in Vila Valério\n",
    "\n",
    "casedf = df[df[\"Municipio\"] == \"VILA VALERIO\"]\n",
    "\n",
    "fig, ax = plt.subplots(1, 2, figsize=(10, 4))\n",
    "ax0, ax1 = ax.flatten()\n",
    "ylabels=[\"Our approach\", \"Current procedure\"]\n",
    "xlabels=[\"Yes\", \"No\"]\n",
    "df_fuzzy, df_manual = processData(casedf, \"Óbito pelo COVID-19\")\n",
    "plotComparison(df_fuzzy, df_manual, ax0)\n",
    "putLabels(ax0, xlabels, \"Hospitalization (patients that died by COVID-19)\")\n",
    "\n",
    "df_fuzzy, df_manual = processData(casedf, \"Óbito por outras causas\")\n",
    "plotComparison(df_fuzzy, df_manual, ax1)\n",
    "putLabels(ax1, xlabels, \"Hospitalization (patients that died by other causes)\", False)\n",
    "\n",
    "lgd = fig.legend(ax0, labels=ylabels, ncol=4, loc='lower center', bbox_transform = plt.gcf().transFigure)\n",
    "fig.tight_layout(w_pad=2.5, h_pad=1, pad=3.5)\n",
    "\n",
    "for lh in lgd.legendHandles: \n",
    "    lh.set_alpha(1)\n",
    "\n",
    "fig.savefig('fig7.png', bbox_inches='tight', dpi=300)\n"
   ]
  },
  {
   "cell_type": "code",
   "execution_count": null,
   "id": "63047796-2c34-430a-9174-cd894f48b1e2",
   "metadata": {},
   "outputs": [],
   "source": []
  }
 ],
 "metadata": {
  "kernelspec": {
   "display_name": "Python [conda env:uaifi] *",
   "language": "python",
   "name": "conda-env-uaifi-py"
  },
  "language_info": {
   "codemirror_mode": {
    "name": "ipython",
    "version": 3
   },
   "file_extension": ".py",
   "mimetype": "text/x-python",
   "name": "python",
   "nbconvert_exporter": "python",
   "pygments_lexer": "ipython3",
   "version": "3.7.10"
  }
 },
 "nbformat": 4,
 "nbformat_minor": 5
}
